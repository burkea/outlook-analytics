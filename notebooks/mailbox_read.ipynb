{
 "cells": [
  {
   "cell_type": "markdown",
   "id": "300aaa53",
   "metadata": {},
   "source": [
    "unsupervised density-based clustering to build a visual map of word clouds.\n",
    "\n",
    "maili gruplar halinde bölebilir mi\n",
    "sıraya koyabilir mi\n",
    "fikir: benim istemediğim mailleri doğrudan başka bir folder'a yollasın. ben işaretledikçe "
   ]
  },
  {
   "cell_type": "code",
   "execution_count": null,
   "id": "8bf10a0d",
   "metadata": {},
   "outputs": [],
   "source": [
    "import pickle\n",
    "\n",
    "from exchangelib import Credentials, Account,Message\n",
    "from dotenv import load_dotenv\n",
    "import os \n",
    "\n",
    "\n",
    "mail = os.environ.get('secretUser')\n",
    "password = os.environ.get('secretKey')\n",
    "print(mail)\n",
    "credentials = Credentials(mail, password)\n",
    "account = Account(mail, credentials=credentials, autodiscover=True)\n",
    "\n"
   ]
  },
  {
   "cell_type": "code",
   "execution_count": null,
   "id": "5556ed22",
   "metadata": {},
   "outputs": [],
   "source": [
    "\n",
    "import os, re, os.path\n",
    "count = 0\n",
    "cwd = os.path.join(os.getcwd() , \"mailbox\")\n",
    "for root, dirs, files in os.walk(cwd):\n",
    "    for file in files:\n",
    "        os.remove(os.path.join(root, file))\n",
    "        count = count +  1\n",
    "\n",
    "print(\" {0} files deleted\".format(count))\n",
    "\n",
    "    #for item in account.inbox.all():\n",
    "#for item in account.inbox.all().order_by('-datetime_received'):\n",
    "count = 0\n",
    "for _i in range(0,account.inbox.total_count,100):\n",
    "    for item in account.inbox.all().order_by('-datetime_received')[_i:_i+100]:\n",
    "        #\n",
    "        print(count,item.subject, item.sender, item.datetime_received,item.changekey)    \n",
    "        #save it\n",
    "        path = os.path.join(cwd,'{0}.pickle'.format(item.changekey.replace('/','_')))\n",
    "        with open(path, 'wb') as file:\n",
    "            pickle.dump(item, file) \n",
    "        count = count + 1\n",
    "print(\"{0} items created.\".format(count))\n"
   ]
  },
  {
   "cell_type": "code",
   "execution_count": null,
   "id": "8a5a8219",
   "metadata": {},
   "outputs": [],
   "source": []
  },
  {
   "cell_type": "code",
   "execution_count": null,
   "id": "fe1ac3f1",
   "metadata": {},
   "outputs": [],
   "source": []
  },
  {
   "cell_type": "code",
   "execution_count": null,
   "id": "11d9f793",
   "metadata": {
    "scrolled": false
   },
   "outputs": [],
   "source": [
    "import os\n",
    "folder = os.getcwd() + '/mailbox/'\n",
    "files = os.listdir(folder)\n",
    "\n",
    "\n",
    "count =  0\n",
    "appended_list = []\n",
    "for file in files:\n",
    "    #print(file)\n",
    "    item = Message()\n",
    "    with open(folder + file, 'rb') as file:\n",
    "        item = pickle.load(file) \n",
    "    #print(item.subject)\n",
    "    #print(item.sender)\n",
    "    #print(item.datetime_received)\n",
    "    appended_list.append({\"subject\":item.subject,\"sender\":item.sender.name,\"datetime_received\": item.datetime_received})\n",
    "    #print(\"to_recipients::\",item.to_recipients)\n",
    "    #print(item.received_by)\n",
    "    #if count == 5:\n",
    "    #    break\n",
    "    #count = count  + 1\n"
   ]
  },
  {
   "cell_type": "code",
   "execution_count": null,
   "id": "15c0daf0",
   "metadata": {},
   "outputs": [],
   "source": [
    "import pandas as pd\n",
    "df  = pd.DataFrame( appended_list, columns=[ 'subject', 'sender', 'datetime_received'])\n",
    "df\n"
   ]
  },
  {
   "cell_type": "code",
   "execution_count": null,
   "id": "1d046bdd",
   "metadata": {},
   "outputs": [],
   "source": [
    "df_filtered = df[df['datetime_received'].dt.strftime('%Y-%m') == '2022-07']\n",
    "df_filtered"
   ]
  },
  {
   "cell_type": "code",
   "execution_count": null,
   "id": "ae4a86fc",
   "metadata": {},
   "outputs": [],
   "source": [
    "df_filtered[df_filtered['subject']==None]"
   ]
  },
  {
   "cell_type": "code",
   "execution_count": null,
   "id": "1f7dddda",
   "metadata": {},
   "outputs": [],
   "source": [
    "#Codes by Ragnar https://www.kaggle.com/rowhitswami/starter-load-stopwords\n",
    "\n",
    "def get_stopwords_list(stop_file_path):\n",
    "    \"\"\"load stop words \"\"\"\n",
    "    \n",
    "    with open(stop_file_path, 'r', encoding=\"utf-8\") as f:\n",
    "        stopwords = f.readlines()\n",
    "        stop_set = set(m.strip() for m in stopwords)\n",
    "        return list(frozenset(stop_set))"
   ]
  },
  {
   "cell_type": "code",
   "execution_count": null,
   "id": "d82acf48",
   "metadata": {},
   "outputs": [],
   "source": [
    "folder = os.getcwd() + '/data/'\n",
    "\n",
    "stopwords_path = folder+\"turkish.txt\"\n",
    "stopwords = get_stopwords_list(stopwords_path)\n"
   ]
  },
  {
   "cell_type": "code",
   "execution_count": null,
   "id": "3ebc56fa",
   "metadata": {},
   "outputs": [],
   "source": [
    "# -*- coding: utf8 -*-\n",
    "# Redesigned by @guneysus\n",
    "\n",
    "lcase_table = tuple(u'abcçdefgğhıijklmnoöprsştuüvyz')\n",
    "ucase_table = tuple(u'ABCÇDEFGĞHIİJKLMNOÖPRSŞTUÜVYZ')\n",
    "\n",
    "def upper(data):\n",
    "    data = data.replace('i',u'İ')\n",
    "    data = data.replace(u'ı',u'I')\n",
    "    result = ''\n",
    "    for char in data:\n",
    "        try:\n",
    "            char_index = lcase_table.index(char)\n",
    "            ucase_char = ucase_table[char_index]\n",
    "        except:\n",
    "            ucase_char = char\n",
    "        result += ucase_char\n",
    "    return result\n",
    "\n",
    "def lower(data):\n",
    "    data = data.replace(u'İ',u'i')\n",
    "    data = data.replace(u'I',u'ı')\n",
    "    result = ''\n",
    "    for char in data:\n",
    "        try:\n",
    "            char_index = ucase_table.index(char)\n",
    "            lcase_char = lcase_table[char_index]\n",
    "        except:\n",
    "            lcase_char = char\n",
    "        result += lcase_char\n",
    "    return result\n",
    "\n",
    "def capitalize(data):\n",
    "    return data[0].upper() + data[1:].lower()\n",
    "\n",
    "def title(data):\n",
    "    return \" \".join(map(lambda x: x.capitalize(), data.split()))\n",
    "\n",
    "\n",
    "print (u'istanbul'.upper())\n",
    "print (u'İSTANBUL'.lower())\n",
    "print (lower('İSTANBUL'))\n"
   ]
  },
  {
   "cell_type": "code",
   "execution_count": null,
   "id": "8e18474d",
   "metadata": {},
   "outputs": [],
   "source": [
    "stopwords.append(\"re:\")\n",
    "stopwords.append(\"fw:\")\n",
    "stopwords.append(\"hk\")\n",
    "stopwords.append(\"hk.\")\n",
    "stopwords.append(\"hakkında\")\n"
   ]
  },
  {
   "cell_type": "code",
   "execution_count": null,
   "id": "58ec36d5",
   "metadata": {},
   "outputs": [],
   "source": [
    "def remove_stop_words(corpus):\n",
    "    results = []\n",
    "    for text in corpus:\n",
    "        if text == None:\n",
    "            continue\n",
    "        text =  text.lower()\n",
    "        tmp = text.split(' ')\n",
    "        for stop_word in stopwords:\n",
    "            if stop_word in tmp:\n",
    "                tmp.remove(stop_word)\n",
    "        results.append(\" \".join(tmp))\n",
    "        \n",
    "    return results"
   ]
  },
  {
   "cell_type": "code",
   "execution_count": null,
   "id": "7d5fe8fd",
   "metadata": {},
   "outputs": [],
   "source": [
    "corpus =  df['subject'].tolist()\n",
    "corpus = remove_stop_words(corpus)\n"
   ]
  },
  {
   "cell_type": "code",
   "execution_count": null,
   "id": "ad548d2f",
   "metadata": {},
   "outputs": [],
   "source": [
    "single_corpus = \"\"\n",
    "for c in corpus:\n",
    "   single_corpus = single_corpus +\" \" + c \n"
   ]
  },
  {
   "cell_type": "code",
   "execution_count": null,
   "id": "0fbecdf1",
   "metadata": {},
   "outputs": [],
   "source": [
    "from wordcloud import WordCloud\n",
    "wordcloud = WordCloud().generate(single_corpus)\n"
   ]
  },
  {
   "cell_type": "code",
   "execution_count": null,
   "id": "ee307fbb",
   "metadata": {},
   "outputs": [],
   "source": [
    "# Display the generated image:\n",
    "# the matplotlib way:\n",
    "import matplotlib.pyplot as plt\n",
    "plt.imshow(wordcloud, interpolation='bilinear')\n",
    "plt.axis(\"off\")\n",
    "\n",
    "# lower max_font_size\n",
    "wordcloud = WordCloud(max_font_size=60).generate(single_corpus)\n",
    "plt.figure()\n",
    "plt.imshow(wordcloud, interpolation=\"bilinear\")\n",
    "plt.axis(\"off\")\n",
    "plt.show()"
   ]
  },
  {
   "cell_type": "code",
   "execution_count": null,
   "id": "85b44793",
   "metadata": {},
   "outputs": [],
   "source": []
  },
  {
   "cell_type": "code",
   "execution_count": null,
   "id": "d38c8713",
   "metadata": {},
   "outputs": [],
   "source": []
  },
  {
   "cell_type": "code",
   "execution_count": null,
   "id": "a3307cf7",
   "metadata": {},
   "outputs": [],
   "source": []
  },
  {
   "cell_type": "code",
   "execution_count": null,
   "id": "48e37b10",
   "metadata": {},
   "outputs": [],
   "source": []
  },
  {
   "cell_type": "code",
   "execution_count": null,
   "id": "ae1aab8c",
   "metadata": {},
   "outputs": [],
   "source": [
    "# filter by single day\n",
    "df_filtered = df[df['date'].dt.strftime('%Y-%m-%d') == '2014-01-01']\n",
    "\n",
    "# filter by single month\n",
    "df_filtered = df[df['date'].dt.strftime('%Y-%m') == '2014-01']\n",
    "\n",
    "# filter by single year\n",
    "df_filtered = df[df['date'].dt.strftime('%Y') == '2014']"
   ]
  },
  {
   "cell_type": "code",
   "execution_count": null,
   "id": "1fd954c6",
   "metadata": {},
   "outputs": [],
   "source": [
    "from datetime import date\n",
    "\n",
    "import pandas as pd\n",
    "\n",
    "value_to_check = pd.Timestamp(date.today().year, 1, 1)\n",
    "filter_mask = df['date_column'] < value_to_check\n",
    "filtered_df = df[filter_mask]\n",
    "\n",
    "from datetime import datetime\n",
    "from dateutil.relativedelta import relativedelta\n",
    "given_date = '21/1/2021'\n",
    "print('Give Date: ', given_date)\n",
    "date_format = '%d/%m/%Y'\n",
    "dtObj = datetime.strptime(given_date, date_format)\n",
    "# Subtract 20 months from a given datetime object\n",
    "n = 20\n",
    "past_date = dtObj - relativedelta(months=n)\n",
    "print('Past Date: ', past_date)\n",
    "print('Past Date: ', past_date.date())\n",
    "# Convert datetime object to string in required format\n",
    "past_date_str = past_date.strftime(date_format)\n",
    "print('Past Date as string object: ', past_date_str)"
   ]
  },
  {
   "cell_type": "code",
   "execution_count": null,
   "id": "b409cfc6",
   "metadata": {},
   "outputs": [],
   "source": []
  },
  {
   "cell_type": "code",
   "execution_count": null,
   "id": "998b9b68",
   "metadata": {},
   "outputs": [],
   "source": []
  },
  {
   "cell_type": "markdown",
   "id": "2384dbd8",
   "metadata": {},
   "source": [
    "import pickle\n",
    "#save it\n",
    "with open(f'test.pickle', 'wb') as file:\n",
    "    pickle.dump(item, file) "
   ]
  },
  {
   "cell_type": "markdown",
   "id": "d3f9c397",
   "metadata": {},
   "source": [
    "#load it\n",
    "with open(f'test.pickle', 'rb') as file2:\n",
    "    s1_new = pickle.load(file2)\n",
    "s1_new"
   ]
  },
  {
   "cell_type": "code",
   "execution_count": null,
   "id": "a9a79f7c",
   "metadata": {},
   "outputs": [],
   "source": []
  }
 ],
 "metadata": {
  "kernelspec": {
   "display_name": "Python 3",
   "language": "python",
   "name": "python3"
  },
  "language_info": {
   "codemirror_mode": {
    "name": "ipython",
    "version": 3
   },
   "file_extension": ".py",
   "mimetype": "text/x-python",
   "name": "python",
   "nbconvert_exporter": "python",
   "pygments_lexer": "ipython3",
   "version": "3.8.9"
  },
  "vscode": {
   "interpreter": {
    "hash": "5c89ba48649a000ed77dcac667ae01d49a341a9d5accf8d87e817969772aec53"
   }
  }
 },
 "nbformat": 4,
 "nbformat_minor": 5
}
